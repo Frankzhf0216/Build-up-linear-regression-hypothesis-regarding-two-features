{
  "nbformat": 4,
  "nbformat_minor": 0,
  "metadata": {
    "colab": {
      "name": "Untitled0.ipynb",
      "provenance": [],
      "collapsed_sections": [
        "W_w3c-Rp1JCC",
        "iY5O0N8l1pU4",
        "TFvAcjsW12kK",
        "GcREdezMkN5Z",
        "SPz9e1yBw51N"
      ],
      "authorship_tag": "ABX9TyOKa/7Rdc/P2iWOGdK0QIFZ",
      "include_colab_link": true
    },
    "kernelspec": {
      "name": "python3",
      "display_name": "Python 3"
    }
  },
  "cells": [
    {
      "cell_type": "markdown",
      "metadata": {
        "id": "view-in-github",
        "colab_type": "text"
      },
      "source": [
        "<a href=\"https://colab.research.google.com/github/Frankzhf0216/Build-up-linear-regression-hypothesis-regarding-two-features/blob/master/CS483_Homework.ipynb\" target=\"_parent\"><img src=\"https://colab.research.google.com/assets/colab-badge.svg\" alt=\"Open In Colab\"/></a>"
      ]
    },
    {
      "cell_type": "markdown",
      "metadata": {
        "id": "W_w3c-Rp1JCC",
        "colab_type": "text"
      },
      "source": [
        "# CS483_HW#1_Q1\n"
      ]
    },
    {
      "cell_type": "code",
      "metadata": {
        "id": "slenEliT1YKM",
        "colab_type": "code",
        "colab": {}
      },
      "source": [
        "import numpy as np\n",
        "\n",
        "#hypothesishypothesis function ---- h(theta)=theta1+theta2*x\n",
        "#loss function    ------ l=[h(x(i))-y(i)]^2\n",
        "#cost function    ------ J(theta) = [h(x(i))-y(i)]^2/(2*m)\n",
        "\n",
        "def training(tr_set):\n",
        "  (theta1,theta2,theta3)=(0,0,0)      # Initialize theta's value\n",
        "  alpha=0.01\t\t\t\t\t\t              # Set up learning rate\n",
        "  m=len(tr_set)\t\t\t\t\t\t            # Get number of samples in training set\n",
        "  iteration=36000  \n",
        "  while iteration > 0:\n",
        "    dtheta1=0\t\t\t\t\t\t\t# Initialize derivative value to big enough \n",
        "    dtheta2=0\n",
        "    dtheta3=0\n",
        "    for x in tr_set:\t\t\t# x[0]=x0; x[1]=x1; x[2]=x2; x[3]=y\n",
        "      dtheta1=dtheta1+((theta1*x[0]+theta2*x[1]+theta3*x[2])-x[3])*x[0]\n",
        "      dtheta2=dtheta2+((theta1*x[0]+theta2*x[1]+theta3*x[2])-x[3])*x[1]\n",
        "      dtheta3=dtheta3+((theta1*x[0]+theta2*x[1]+theta3*x[2])-x[3])*x[2]\n",
        "      \n",
        "    theta1=theta1-alpha*dtheta1/m\n",
        "    theta2=theta2-alpha*dtheta2/m\n",
        "    theta3=theta3-alpha*dtheta3/m\n",
        "\n",
        "    iteration-=1\n",
        "  \n",
        "  return (theta1, theta2, theta3)\n",
        "\n",
        "def pred(training_set,test_set):\n",
        "  (t1,t2,t3)=training(training_set)\n",
        "  #print(t1,t2,t3)\n",
        "  return t1*test_set[0]+t2*test_set[1]+t3*test_set[2]\n",
        "\n",
        "\n",
        "tr=[[1,-0.195652174,-0.433333333,-0.177897574],[1,-0.152173913,0.277777778,-0.121293801],[1,0.413043478,0.411111111,0.350404313],[1,-0.326086957,-0.122222222,0.04851752],[1,-0.065217391,-0.344444444,0.105121294],[1,0.152173913,0.033333333,0.067385445],[1,0.065217391,-0.188888889,-0.309973046],[1,0.543478261,0.411111111,0.690026954],[1,-0.065217391,0.411111111,0.180592992],[1,-0.456521739,-0.522222222,-0.215633423],[1,-0.065217391,-0.233333333,-0.15902965],[1,0.5,0.477777778,0.105121294],[1,-0.195652174,-0.077777778,-0.291105121],[1,-0.152173913,-0.1,-0.272237197]]\n",
        "tr=np.array(tr) # matrix format\n",
        "# tr[:,1]=(tr[:,1] - min(tr[:,1] )) / (max(tr[:,1])-min(tr[:,1]))  # normalization bwt 0~1\n",
        "# tr[:,2]=(tr[:,2] - min(tr[:,1] )) / (max(tr[:,2])-min(tr[:,2]))  # normalization bwt 0~1\n",
        "# print(tr)\n",
        "#for test_tr in tr:\n",
        "  #print(pred(tr,test_tr))\n",
        "\n",
        "test=[[1,0.02173913, 0.166666667],[1,0.630434783,0.055555556]]\n",
        "test=np.array(test)\n",
        "for pre in test:\n",
        "  print(\"After training: \",pred(tr,pre) ,\"\\npredict value: \", pred(tr,pre)*53 + 126.4285714)"
      ],
      "execution_count": null,
      "outputs": []
    },
    {
      "cell_type": "markdown",
      "metadata": {
        "id": "iY5O0N8l1pU4",
        "colab_type": "text"
      },
      "source": [
        "# CS483_HW#1_Q2"
      ]
    },
    {
      "cell_type": "code",
      "metadata": {
        "id": "1JeBUKOI4z1O",
        "colab_type": "code",
        "colab": {
          "base_uri": "https://localhost:8080/",
          "height": 265
        },
        "outputId": "cafb2633-1c09-42d3-a912-9da0150f373c"
      },
      "source": [
        "import numpy as np\n",
        "\n",
        "def training(tr_set):\n",
        "  (theta1,theta2)=(0,0)      # Initialize theta's value\n",
        "  alpha=0.01\t\t\t\t\t\t              # Set up learning rate\n",
        "  m=len(tr_set)\t\t\t\t\t\t            # Get number of samples in training set\n",
        "  iteration=36000  \n",
        "  while iteration > 0:\n",
        "    dtheta1=0\t\t\t\t\t\t\t# Initialize derivative value to big enough \n",
        "    dtheta2=0\n",
        "    for x in tr_set:\t\t\t# x[0]=x0; x[1]=x1; x[2]=y\n",
        "      dtheta1=dtheta1+((theta1*x[0]+theta2*x[1])-x[2])*x[0]\n",
        "      dtheta2=dtheta2+((theta1*x[0]+theta2*x[1])-x[2])*x[1]\n",
        "      \n",
        "    theta1=theta1-alpha*dtheta1/m\n",
        "    theta2=theta2-alpha*dtheta2/m\n",
        "\n",
        "    iteration-=1\n",
        "  \n",
        "  return (theta1, theta2)\n",
        "\n",
        "def pred(training_set,test_set):\n",
        "  (t1,t2)=training(training_set)\n",
        "  #print(t1, t2)\n",
        "  return t1*test_set[0]+t2*test_set[1]\n",
        "\n",
        "tr=[[1,-0.5,-0.37987013],[1,-0.4,-0.372727273],[1,-0.3,-0.294155844],[1,-0.2,-0.258441558],[1,-0.1,-0.151298701],[1,0,-0.087012987],[1,0.1,0.048701299],[1,0.2,0.141558442],[1,0.3,0.305844156],[1,0.4,0.427272727],[1,0.5,0.62012987]]\n",
        "tr=np.array(tr)\n",
        "for test_tr in tr:\n",
        " result=(pred(tr,test_tr)*140 + 57.18181818)\n",
        " #print(result)\n",
        "\n",
        "theta=training(tr)\n",
        "#print(theta[0],theta[1])\n",
        "\n",
        "row_x=[[0],[1],[2],[3],[4],[5],[6],[7],[8],[9],[10]]\n",
        "row_y=[[4],[5],[16],[21],[36],[45],[64],[77],[100],[117],[144]]\n",
        "\n",
        "\n",
        "#def function(x):\n",
        "  #return t1[0] + t2[0]*x\n",
        "\n",
        "#h=function(row_x)\n",
        "import matplotlib.pyplot as plt\n",
        "plt.scatter(row_x,row_y)\n",
        "plt.plot(row_x, row_y, color='red', linewidth=2)\n",
        "plt.show()\n",
        "\n"
      ],
      "execution_count": null,
      "outputs": [
        {
          "output_type": "display_data",
          "data": {
            "image/png": "[encoded data removed]",
            "text/plain": [
              "<Figure size 432x288 with 1 Axes>"
            ]
          },
          "metadata": {
            "tags": [],
            "needs_background": "light"
          }
        }
      ]
    },
    {
      "cell_type": "markdown",
      "metadata": {
        "id": "TFvAcjsW12kK",
        "colab_type": "text"
      },
      "source": [
        "# CS483_HW#1_Q3"
      ]
    },
    {
      "cell_type": "code",
      "metadata": {
        "id": "Uw3gUe6f6ajP",
        "colab_type": "code",
        "colab": {
          "base_uri": "https://localhost:8080/",
          "height": 282
        },
        "outputId": "125acb86-3637-4d3e-c622-fc0f6db4e0bc"
      },
      "source": [
        "import numpy as np\n",
        "\n",
        "row_x=[[1],[3],[5],[7],[9],[11],[13],[15],[17],[19]]\n",
        "x=[[1, 1],[1, 3],[1, 5],[1, 7],[1, 9],[1, 11],[1, 13],[1, 15],[1, 17],[1, 19]]\n",
        "x=np.array(x)\n",
        "#print(x)\n",
        "X=x.transpose()   #x(T)\n",
        "#print(X)    \n",
        "a=X.dot(x)  #x(T)*x\n",
        "#print(a)\n",
        "inverse=np.linalg.inv(a)  #(x(T)*x)^(-1)\n",
        "#print(inverse)\n",
        "b=inverse.dot(X)       #(x(T)*x)^(-1)*x(T)\n",
        "#print(b)\n",
        "y=[[3],[3],[7],[7],[11],[11],[15],[15],[19],[19]]\n",
        "theta=b.dot(y)    #(x(T)x)^-1*x(T)*y\n",
        "print(theta[0], theta[1])\n",
        "\n",
        "def function(x):\n",
        "  return theta[0] + theta[1]*x\n",
        "\n",
        "h=function(row_x)\n",
        "import matplotlib.pyplot as plt\n",
        "plt.scatter(row_x,y)\n",
        "plt.plot(row_x, h, color='red', linewidth=2)\n",
        "plt.show()\n"
      ],
      "execution_count": null,
      "outputs": [
        {
          "output_type": "stream",
          "text": [
            "[1.3030303] [0.96969697]\n"
          ],
          "name": "stdout"
        },
        {
          "output_type": "display_data",
          "data": {
            "image/png": "[encoded data removed]",
            "text/plain": [
              "<Figure size 432x288 with 1 Axes>"
            ]
          },
          "metadata": {
            "tags": [],
            "needs_background": "light"
          }
        }
      ]
    },
    {
      "cell_type": "markdown",
      "metadata": {
        "id": "GcREdezMkN5Z",
        "colab_type": "text"
      },
      "source": [
        "# CS483_HW#2_Q1"
      ]
    },
    {
      "cell_type": "code",
      "metadata": {
        "id": "gFypUBSIkc-r",
        "colab_type": "code",
        "colab": {
          "base_uri": "https://localhost:8080/",
          "height": 50
        },
        "outputId": "cfcabb47-5059-4e9a-ae38-d8de28e47100"
      },
      "source": [
        "import numpy as np\n",
        "\n",
        "def training(tr_set):\n",
        "  (theta1,theta2,theta3,theta4,theta5,theta6,theta7,theta8,theta9,theta10)=(0,0,0,0,0,0,0,0,0,0)      # Initialize theta's value\n",
        "  alpha=0.01\t\t\t\t\t\t              # Set up learning rate\n",
        "  m=len(tr_set)\t\t\t\t\t\t            # Get number of samples in training set\n",
        "  iteration=36000  \n",
        "  while iteration > 0:\n",
        "    dtheta1=0\t\t\t\t\t\t\t# Initialize derivative value to big enough \n",
        "    dtheta2=0\n",
        "    dtheta3=0\n",
        "    dtheta4=0\n",
        "    dtheta5=0\n",
        "    dtheta6=0\n",
        "    dtheta7=0\n",
        "    dtheta8=0\n",
        "    dtheta9=0\n",
        "    dtheta10=0\n",
        "    for x in tr_set:\t\t\t# x[0]=x0; x[1]=x1; x[2]=x2 ... x[10]=y\n",
        "      dtheta1=dtheta1+(1/(1+np.exp(-(theta1*x[0]+theta2*x[1]+theta3*x[2]+theta4*x[3]+theta5*x[4]+theta6*x[5]+theta7*x[6]+theta8*x[7]+theta9*x[8]+theta10*x[9])))-x[10])*x[0]\n",
        "      dtheta2=dtheta2+(1/(1+np.exp(-(theta1*x[0]+theta2*x[1]+theta3*x[2]+theta4*x[3]+theta5*x[4]+theta6*x[5]+theta7*x[6]+theta8*x[7]+theta9*x[8]+theta10*x[9])))-x[10])*x[1]\n",
        "      dtheta3=dtheta3+(1/(1+np.exp(-(theta1*x[0]+theta2*x[1]+theta3*x[2]+theta4*x[3]+theta5*x[4]+theta6*x[5]+theta7*x[6]+theta8*x[7]+theta9*x[8]+theta10*x[9])))-x[10])*x[2]\n",
        "      dtheta4=dtheta4+(1/(1+np.exp(-(theta1*x[0]+theta2*x[1]+theta3*x[2]+theta4*x[3]+theta5*x[4]+theta6*x[5]+theta7*x[6]+theta8*x[7]+theta9*x[8]+theta10*x[9])))-x[10])*x[3]\n",
        "      dtheta5=dtheta5+(1/(1+np.exp(-(theta1*x[0]+theta2*x[1]+theta3*x[2]+theta4*x[3]+theta5*x[4]+theta6*x[5]+theta7*x[6]+theta8*x[7]+theta9*x[8]+theta10*x[9])))-x[10])*x[4]\n",
        "      dtheta6=dtheta6+(1/(1+np.exp(-(theta1*x[0]+theta2*x[1]+theta3*x[2]+theta4*x[3]+theta5*x[4]+theta6*x[5]+theta7*x[6]+theta8*x[7]+theta9*x[8]+theta10*x[9])))-x[10])*x[5]\n",
        "      dtheta7=dtheta7+(1/(1+np.exp(-(theta1*x[0]+theta2*x[1]+theta3*x[2]+theta4*x[3]+theta5*x[4]+theta6*x[5]+theta7*x[6]+theta8*x[7]+theta9*x[8]+theta10*x[9])))-x[10])*x[6]\n",
        "      dtheta8=dtheta8+(1/(1+np.exp(-(theta1*x[0]+theta2*x[1]+theta3*x[2]+theta4*x[3]+theta5*x[4]+theta6*x[5]+theta7*x[6]+theta8*x[7]+theta9*x[8]+theta10*x[9])))-x[10])*x[7]\n",
        "      dtheta9=dtheta9+(1/(1+np.exp(-(theta1*x[0]+theta2*x[1]+theta3*x[2]+theta4*x[3]+theta5*x[4]+theta6*x[5]+theta7*x[6]+theta8*x[7]+theta9*x[8]+theta10*x[9])))-x[10])*x[8]\n",
        "      dtheta10=dtheta10+(1/(1+np.exp(-(theta1*x[0]+theta2*x[1]+theta3*x[2]+theta4*x[3]+theta5*x[4]+theta6*x[5]+theta7*x[6]+theta8*x[7]+theta9*x[8]+theta10*x[9])))-x[10])*x[9]\n",
        "\n",
        "    theta1=theta1-alpha*dtheta1/m\n",
        "    theta2=theta2-alpha*dtheta2/m\n",
        "    theta3=theta3-alpha*dtheta3/m   \n",
        "    theta4=theta4-alpha*dtheta4/m\n",
        "    theta5=theta5-alpha*dtheta5/m\n",
        "    theta6=theta6-alpha*dtheta6/m\n",
        "    theta7=theta7-alpha*dtheta7/m\n",
        "    theta8=theta8-alpha*dtheta8/m\n",
        "    theta9=theta9-alpha*dtheta9/m\n",
        "    theta10=theta10-alpha*dtheta10/m\n",
        "\n",
        "\n",
        "    iteration-=1\n",
        "  \n",
        "  return (theta1, theta2, theta3,theta4,theta5,theta6,theta7,theta8,theta9,theta10)\n",
        "\n",
        "def pred(training_set,test_set):\n",
        "\n",
        "  (t1,t2,t3,t4,t5,t6,t7,t8,t9,t10)=training(training_set)\n",
        "  #print(t1,t2,t3,t4,t5,t6,t7,t8,t9,t10)\n",
        "  return 1/(1+np.exp(-(t1*test_set[0]+t2*test_set[1]+t3*test_set[2]+t4*test_set[3]+t5*test_set[4]+t6*test_set[5]+t7*test_set[6]+t8*test_set[7]+t9*test_set[8]+t10*test_set[9])))\n",
        "\n",
        "# set 4 to 0, 2 to 1.\n",
        "tr=[[1,8,10,10,8,7,10,9,7,1,0],[1,5,3,3,3,2,3,4,4,1,0],[1,1,1,1,1,2,3,3,1,1,1],[1,8,7,5,10,7,9,5,5,4,0],[1,7,4,6,4,6,1,4,3,1,0],[1,4,1,1,1,2,1,2,1,1,1],[1,4,1,1,1,2,1,3,1,1,1],[1,10,7,7,6,4,10,4,1,2,0],[1,6,1,1,1,2,1,3,1,1,1],[1,7,3,2,10,5,10,5,4,4,0],[1,10,5,5,3,6,7,7,10,1,0],[1,3,1,1,1,2,1,2,1,1,1],[1,8,4,5,1,2,5,7,3,1,0],[1,1,1,1,1,2,1,3,1,1,1],[1,5,2,3,4,2,7,3,6,1,0],[1,3,2,1,1,1,1,2,1,1,1],[1,5,1,1,1,2,1,2,1,1,1],[1,2,1,1,1,2,1,2,1,1,1],[1,1,1,3,1,2,1,1,1,1,1],[1,3,1,1,1,1,1,2,1,1,1],[1,2,1,1,1,2,1,3,1,1,1],[1,10,7,7,3,8,5,7,4,3,0],[1,2,1,1,2,2,1,3,1,1,1],[1,3,1,2,1,2,1,2,1,1,1],[1,2,1,1,1,2,1,2,1,1,1],[1,10,10,10,8,6,1,8,9,1,0],[1,6,2,1,1,1,1,7,1,1,1],[1,5,4,4,9,2,10,5,6,1,0],[1,2,5,3,3,6,7,7,5,1,0],[1,10,4,3,1,3,3,6,5,2,0],[1,6,10,10,2,8,10,7,3,3,0],[1,5,6,5,6,10,1,3,1,1,0]]\n",
        "tr=np.array(tr) # matrix format\n",
        "\n",
        "tr[:,1]=(tr[:,1] - min(tr[:,1] )) / (max(tr[:,1])-min(tr[:,1]))  # normalization bwt 0~1\n",
        "tr[:,2]=(tr[:,2] - min(tr[:,1] )) / (max(tr[:,2])-min(tr[:,2]))  # normalization bwt 0~1\n",
        "tr[:,3]=(tr[:,3] - min(tr[:,1] )) / (max(tr[:,3])-min(tr[:,3]))  # normalization bwt 0~1\n",
        "tr[:,4]=(tr[:,4] - min(tr[:,1] )) / (max(tr[:,4])-min(tr[:,4]))  # normalization bwt 0~1\n",
        "tr[:,5]=(tr[:,5] - min(tr[:,1] )) / (max(tr[:,5])-min(tr[:,5]))  # normalization bwt 0~1\n",
        "tr[:,6]=(tr[:,6] - min(tr[:,1] )) / (max(tr[:,6])-min(tr[:,6]))  # normalization bwt 0~1\n",
        "tr[:,7]=(tr[:,7] - min(tr[:,1] )) / (max(tr[:,7])-min(tr[:,7]))  # normalization bwt 0~1\n",
        "tr[:,8]=(tr[:,8] - min(tr[:,1] )) / (max(tr[:,8])-min(tr[:,8]))  # normalization bwt 0~1\n",
        "tr[:,9]=(tr[:,9] - min(tr[:,1] )) / (max(tr[:,9])-min(tr[:,9]))  # normalization bwt 0~1\n",
        "\n",
        "\n",
        "(t1,t2,t3,t4,t5,t6,t7,t8,t9,t10)=training(tr)\n",
        "\n",
        "test1=[1,10,10,10,4,8,1,8,10,1]\n",
        "print(pred(tr,test1))\n",
        "\n",
        "test2=[1,6,6,6,9,6,2,7,8,1]\n",
        "print(pred(tr,test2))"
      ],
      "execution_count": 19,
      "outputs": [
        {
          "output_type": "stream",
          "text": [
            "1.9197836781502982e-49\n",
            "3.870350585385369e-40\n"
          ],
          "name": "stdout"
        }
      ]
    },
    {
      "cell_type": "markdown",
      "metadata": {
        "id": "mTiZZF7-wTfU",
        "colab_type": "text"
      },
      "source": [
        "This two results are closed to 0 and due to we set 4 to 0. Therefore, both Y are 4."
      ]
    },
    {
      "cell_type": "markdown",
      "metadata": {
        "id": "SPz9e1yBw51N",
        "colab_type": "text"
      },
      "source": [
        "# CS483_HW#2_Q2"
      ]
    },
    {
      "cell_type": "code",
      "metadata": {
        "id": "uydovWIyw9nx",
        "colab_type": "code",
        "colab": {
          "base_uri": "https://localhost:8080/",
          "height": 282
        },
        "outputId": "2eb5d803-f058-4038-8b58-847e67a7b7a4"
      },
      "source": [
        "import numpy as np\n",
        "\n",
        "def training(tr_set):\n",
        "  '''\n",
        "    Description: tr_set -> multi dimension list for each training sample, like (1,x1,x2,y)\n",
        "  '''\n",
        "  (theta1,theta2,theta3)=(0,0,0)      # Initialize theta's value\n",
        "  alpha=0.01\t\t\t\t\t\t              # Set up learning rate\n",
        "  m=len(tr_set)\t\t\t\t\t\t            # Get number of samples in training set\n",
        "  iteration=36000  \n",
        "  while iteration > 0:\n",
        "    dtheta1=0\t\t\t\t\t\t\t# Initialize derivative value to big enough \n",
        "    dtheta2=0\n",
        "    dtheta3=0\n",
        "    for x in tr_set:\t\t\t# x[0]=x0; x[1]=x1; x[2]=x2; x[3]=y\n",
        "      dtheta1=dtheta1+(1/(1+np.exp(-(theta1*x[0]+theta2*x[1]*x[1]+theta3*x[2]*x[2])))-x[3])*x[0]\n",
        "      dtheta2=dtheta2+(1/(1+np.exp(-(theta1*x[0]+theta2*x[1]*x[1]+theta3*x[2]*x[2])))-x[3])*2*x[1]\n",
        "      dtheta3=dtheta3+(1/(1+np.exp(-(theta1*x[0]+theta2*x[1]*x[1]+theta3*x[2]*x[2])))-x[3])*2*x[2]\n",
        "      \n",
        "    theta1=theta1-alpha*dtheta1/m\n",
        "    theta2=theta2-alpha*dtheta2/m\n",
        "    theta3=theta3-alpha*dtheta3/m\n",
        "\n",
        "    iteration-=1\n",
        "  \n",
        "  return (theta1, theta2, theta3)\n",
        "\n",
        "'''\n",
        "def pred(training_set,test_set):\n",
        "  (t1,t2,t3)=training(training_set)\n",
        "  #print(t1,t2,t3)\n",
        "  return 1/(1+np.exp(-(t1*test_set[0]+t2*test_set[1]*test_set[1]+t3*test_set[2]*test_set[2])))\n",
        "'''\n",
        "\n",
        "tr=[[1,-3.98,-0.12,1],[1,-3.464,-2.11,1],[1,-3.461,1.89,1],[1,-2.22,-3.474,1],[1,-2.02,0.03,0],[1,-2.01,3.459,1],[1,-1.42,-1.409,0],[1,-1.416,1.419,0],[1,-1.09,0.08,0],[1,-0.19,-4.13,1],[1,-1.42,-1.409,0],[1,-1.416,1.419,0],[1,-1.09,0.08,0],[1,0.06,3.97,1],[1,0.07,0.1,0],[1,0.12,-1.12,0],[1,1.11,0.09,0],[1,1.411,1.419,0],[1,1.414,-1.415,0],[1,1.86,3.47,1],[1,1.96,-0.12,0],[1,2.11,-3.472,1],[1,3.461,-1.87,1],[1,3.464,2.07,1],[1,4.12,0.09,1]]\n",
        "tr=np.array(tr) # matrix format\n",
        "tr[:,1]=(tr[:,1] - min(tr[:,1] )) / (max(tr[:,1])-min(tr[:,1]))  # normalization bwt 0~1\n",
        "tr[:,2]=(tr[:,2] - min(tr[:,1] )) / (max(tr[:,2])-min(tr[:,2]))  # normalization bwt 0~1\n",
        "\n",
        "(t1,t2,t3)=training(tr)\n",
        "print(t1,t2,t3)\n",
        "\n",
        "import matplotlib.pyplot as plt\n",
        "\n",
        "#the row which Y=1\n",
        "row_x1=[[-3.98,-0.12],[-3.464,-2.11],[-3.461,1.89],[-2.22,-3.474],[-2.01,3.459],[-0.19,-4.13],[0.06,3.97],[1.86,3.47],[2.11,-3.472],[3.461,-1.87],[3.464,2.07],[4.12,0.09]]\n",
        "\n",
        "#the row which Y=0\n",
        "row_x2=[[-2.02,0.03],[-1.42,-1.409],[-1.416,1.419],[-1.09,0.08],[-1.42,-1.409],[-1.416,1.419],[-1.09,0.08],[0.07,0.1],[0.12,-1.12],[1.11,0.09],[1.411,1.419],[1.414,-1.415],[1.96,-0.12]]\n",
        "\n",
        "for x in row_x1:\n",
        "    plt.scatter(x[0],x[1], color='blue')\n",
        "\n",
        "for x in row_x2:\n",
        "    plt.scatter(x[0],x[1], color='red')\n",
        "\n"
      ],
      "execution_count": 18,
      "outputs": [
        {
          "output_type": "stream",
          "text": [
            "-0.27500301490267204 0.4455864097134172 0.9473207569713876\n"
          ],
          "name": "stdout"
        },
        {
          "output_type": "display_data",
          "data": {
            "image/png": "[encoded data removed]",
            "text/plain": [
              "<Figure size 432x288 with 1 Axes>"
            ]
          },
          "metadata": {
            "tags": [],
            "needs_background": "light"
          }
        }
      ]
    },
    {
      "cell_type": "markdown",
      "metadata": {
        "id": "6iASbB3Q49t5",
        "colab_type": "text"
      },
      "source": [
        "Due to theta2 not equal theta3, this boundary function is for circle boundary. But not a circle."
      ]
    },
    {
      "cell_type": "markdown",
      "metadata": {
        "id": "j0LoGGCaxAgO",
        "colab_type": "text"
      },
      "source": [
        "# CS483_HW#2_Q3\n"
      ]
    },
    {
      "cell_type": "code",
      "metadata": {
        "id": "FibI_-eHxDwH",
        "colab_type": "code",
        "colab": {
          "base_uri": "https://localhost:8080/",
          "height": 601
        },
        "outputId": "514ae058-f1de-4a67-ceb1-0b352b709cbc"
      },
      "source": [
        "import numpy as np\n",
        "\n",
        "def training(tr_set):\n",
        "  '''\n",
        "    Description: tr_set -> multi dimension list for each training sample, like (1,x1,x2,y)\n",
        "  '''\n",
        "  (theta1,theta2,theta3)=(0,0,0)      # Initialize theta's value\n",
        "  alpha=0.01\t\t\t\t\t\t              # Set up learning rate\n",
        "  m=len(tr_set)\t\t\t\t\t\t            # Get number of samples in training set\n",
        "  iteration=36000  \n",
        "  while iteration > 0:\n",
        "    dtheta1=0\t\t\t\t\t\t\t# Initialize derivative value to big enough \n",
        "    dtheta2=0\n",
        "    dtheta3=0\n",
        "    for x in tr_set:\t\t\t# x[0]=x0; x[1]=x1; x[2]=x2; x[3]=y\n",
        "      dtheta1=dtheta1+(1/(1+np.exp(-(theta1*x[0]+theta2*x[1]+theta3*x[2])))-x[3])*x[0]\n",
        "      dtheta2=dtheta2+(1/(1+np.exp(-(theta1*x[0]+theta2*x[1]+theta3*x[2])))-x[3])*x[1]\n",
        "      dtheta3=dtheta3+(1/(1+np.exp(-(theta1*x[0]+theta2*x[1]+theta3*x[2])))-x[3])*x[2]\n",
        "      \n",
        "    theta1=theta1-alpha*dtheta1/m\n",
        "    theta2=theta2-alpha*dtheta2/m\n",
        "    theta3=theta3-alpha*dtheta3/m\n",
        "\n",
        "    iteration-=1\n",
        "  \n",
        "  return (theta1, theta2, theta3)\n",
        "\n",
        "def pred(training_set,test_set):\n",
        "  '''Description: test_set-list data type with programmin score & ML score pred function return value is probability of getting job offer\n",
        "  '''\n",
        "  (t1,t2,t3)=training(training_set)\n",
        "  print(t1,t2,t3)\n",
        "  return 1/(1+np.exp(-(t1*test_set[0]+t2*test_set[1]+t3*test_set[2])))\n",
        "\n",
        "# y=2\n",
        "tr1=[[1,3.25,7.956,1],[1,3.3,2.2,0],[1,3.32,3.41,0],[1,3.35,10.272,1],[1,4.01,1.65,0],[1,4.03,2.51,0],[1,4.05,4.21,0],[1,4.05,7.38,1],[1,4.06,11.412,1],[1,4.07,9.198,1],[1,5.22,2.15,0],[1,5.24,3.41,0],[1,5.25,7.866,1],[1,5.28,10.008,1],[1,8.15,6.3,0],[1,8.23,7.95,0],[1,9.38,7.34,0],[1,9.4,8.21,0],[1,10.2,6.52,0],[1,10.8,7.72,0]]\n",
        "\n",
        "# y=1\n",
        "tr2=[[1,3.25,7.956,0],[1,3.3,2.2,0],[1,3.32,3.41,0],[1,3.35,10.272,0],[1,4.01,1.65,0],[1,4.03,2.51,0],[1,4.05,4.21,0],[1,4.05,7.38,0],[1,4.06,11.412,0],[1,4.07,9.198,0],[1,5.22,2.15,0],[1,5.24,3.41,0],[1,5.25,7.866,0],[1,5.28,10.008,0],[1,8.15,6.3,1],[1,8.23,7.95,1],[1,9.38,7.34,1],[1,9.4,8.21,1],[1,10.2,6.52,1],[1,10.8,7.72,1]]\n",
        "\n",
        "# y=0\n",
        "tr3=[[1,3.25,7.956,0],[1,3.3,2.2,1],[1,3.32,3.41,1],[1,3.35,10.272,0],[1,4.01,1.65,1],[1,4.03,2.51,1],[1,4.05,4.21,1],[1,4.05,7.38,0],[1,4.06,11.412,0],[1,4.07,9.198,0],[1,5.22,2.15,1],[1,5.24,3.41,1],[1,5.25,7.866,0],[1,5.28,10.008,0],[1,8.15,6.3,0],[1,8.23,7.95,0],[1,9.38,7.34,0],[1,9.4,8.21,0],[1,10.2,6.52,0],[1,10.8,7.72,0]]\n",
        "\n",
        "tr1=np.array(tr1) # matrix format\n",
        "#tr1[:,1]=(tr1[:,1] - min(tr1[:,1] )) / (max(tr1[:,1])-min(tr1[:,1]))  # normalization bwt 0~1\n",
        "#tr1[:,2]=(tr1[:,2] - min(tr1[:,1] )) / (max(tr1[:,2])-min(tr1[:,2]))  # normalization bwt 0~1\n",
        "\n",
        "tr2=np.array(tr2) # matrix format\n",
        "#tr2[:,1]=(tr2[:,1] - min(tr2[:,1] )) / (max(tr2[:,1])-min(tr2[:,1]))  # normalization bwt 0~1\n",
        "#tr2[:,2]=(tr2[:,2] - min(tr2[:,1] )) / (max(tr2[:,2])-min(tr2[:,2]))  # normalization bwt 0~1\n",
        "\n",
        "tr3=np.array(tr3) # matrix format\n",
        "#tr3[:,1]=(tr3[:,1] - min(tr3[:,1] )) / (max(tr3[:,1])-min(tr3[:,1]))  # normalization bwt 0~1\n",
        "#tr3[:,2]=(tr3[:,2] - min(tr3[:,1] )) / (max(tr3[:,2])-min(tr3[:,2]))  # normalization bwt 0~1\n",
        "\n",
        "\n",
        "predict1=[1,4.01,3.02]\n",
        "print(pred(tr1,predict1), \"---\",pred(tr2,predict1), \"---\",pred(tr3,predict1),\"\\n\")\n",
        "\n",
        "predict2=[1,9.1,6.5]\n",
        "print(pred(tr1,predict2), \"---\",pred(tr2,predict2), \"---\",pred(tr3,predict2),\"\\n\")\n",
        "\n",
        "predict3=[1,3.50,9.50]\n",
        "print(pred(tr1,predict3), \"---\",pred(tr2,predict3), \"---\",pred(tr3,predict3),\"\\n\")\n",
        "\n",
        "predict4=[1,6.01,6.01]\n",
        "print(pred(tr1,predict4), \"---\",pred(tr2,predict4), \"---\",pred(tr3,predict4),\"\\n\")\n",
        "\n",
        "import matplotlib.pyplot as plt\n",
        "\n",
        "#the row which Y=2\n",
        "row_x1=[[3.25,7.956],[3.35,10.272],[4.05,7.38],[4.06,11.412],[4.07,9.198],[5.25,7.866],[5.28,10.008],[9.1,6.5],[3.5,9.5]]\n",
        "\n",
        "#the row which Y=1\n",
        "row_x2=[[8.15,6.3],[8.23,7.95],[9.38,7.34],[9.4,8.21],[10.2,6.52],[10.8,7.72],[6.01,6.01]]\n",
        "\n",
        "#the row which Y=0\n",
        "row_x3=[[3.3,2.2],[3.32,3.41],[4.01,1.65],[4.03,2.51],[4.05,4.21],[5.22,2.15],[5.24,3.41],[4.01,3.02]]\n",
        "\n",
        "for x in row_x1:\n",
        "    plt.scatter(x[0],x[1], color='blue')\n",
        "\n",
        "for x in row_x2:\n",
        "    plt.scatter(x[0],x[1], color='red')\n",
        "\n",
        "for x in row_x3:\n",
        "    plt.scatter(x[0],x[1], color='Green')\n",
        "\n",
        "\n",
        "\n"
      ],
      "execution_count": 21,
      "outputs": [
        {
          "output_type": "stream",
          "text": [
            "-1.3886018320893816 -3.773292345857559 3.1165902831068784\n",
            "-9.817588339258936 1.6127039792529647 -0.1862458311575012\n",
            "8.656642518571092 -0.14349544041986462 -1.5813472647168585\n",
            "0.0008183502215797863 --- 0.019587000730440868 --- 0.9646189594274157 \n",
            "\n",
            "-1.3886018320893816 -3.773292345857559 3.1165902831068784\n",
            "-9.817588339258936 1.6127039792529647 -0.1862458311575012\n",
            "8.656642518571092 -0.14349544041986462 -1.5813472647168585\n",
            "1.9162499404639623e-07 --- 0.9746035152730106 --- 0.05079035506920623 \n",
            "\n",
            "-1.3886018320893816 -3.773292345857559 3.1165902831068784\n",
            "-9.817588339258936 1.6127039792529647 -0.1862458311575012\n",
            "8.656642518571092 -0.14349544041986462 -1.5813472647168585\n",
            "0.9999996978925079 --- 0.0026186877893841507 --- 0.0010390690126068425 \n",
            "\n",
            "-1.3886018320893816 -3.773292345857559 3.1165902831068784\n",
            "-9.817588339258936 1.6127039792529647 -0.1862458311575012\n",
            "8.656642518571092 -0.14349544041986462 -1.5813472647168585\n",
            "0.004794970454354375 --- 0.2236406675492845 --- 0.15320754298459166 \n",
            "\n"
          ],
          "name": "stdout"
        },
        {
          "output_type": "display_data",
          "data": {
            "image/png": "[encoded data removed]",
            "text/plain": [
              "<Figure size 432x288 with 1 Axes>"
            ]
          },
          "metadata": {
            "tags": [],
            "needs_background": "light"
          }
        }
      ]
    },
    {
      "cell_type": "markdown",
      "metadata": {
        "id": "pEOZH50e_LBD",
        "colab_type": "text"
      },
      "source": [
        "From this result, predict 1 belong to 0, predict 2 belong to 2, predict 3 belong to 2, predict 4 belong to 1"
      ]
    }
  ]
}