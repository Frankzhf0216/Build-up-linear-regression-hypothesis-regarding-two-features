{
  "nbformat": 4,
  "nbformat_minor": 0,
  "metadata": {
    "colab": {
      "name": "Untitled0.ipynb",
      "provenance": [],
      "collapsed_sections": [],
      "toc_visible": true,
      "authorship_tag": "ABX9TyNUPjwzsA/GD7cDOwfJwMBi",
      "include_colab_link": true
    },
    "kernelspec": {
      "name": "python3",
      "display_name": "Python 3"
    }
  },
  "cells": [
    {
      "cell_type": "markdown",
      "metadata": {
        "id": "view-in-github",
        "colab_type": "text"
      },
      "source": [
        "<a href=\"https://colab.research.google.com/github/Frankzhf0216/Build-up-linear-regression-hypothesis-regarding-two-features/blob/master/LinearRegression.ipynb\" target=\"_parent\"><img src=\"https://colab.research.google.com/assets/colab-badge.svg\" alt=\"Open In Colab\"/></a>"
      ]
    },
    {
      "cell_type": "code",
      "metadata": {
        "id": "HiiNZ8UKsQKZ",
        "colab_type": "code",
        "colab": {}
      },
      "source": [
        "import pandas as pd\n",
        "import numpy as np\n",
        "\n",
        "data = {'x': [1,3,5,7,9,11,13,15,17,19], 'Y':[3,3,7,7,11,11,15,15,19,19]}\n",
        "\n",
        "data_frame = pd.DataFrame(data)\n",
        "\n",
        "data_frame\n",
        "\n",
        "from sklearn.linear_model import LinearRegression\n",
        "\n",
        "model_linear = LinearRegression()\n",
        "x = np.array(data_frame['x']).reshape(-1,1)\n",
        "y = data_frame['Y']\n",
        "\n",
        "model_linear.fit(x,y)\n",
        "\n",
        "print('Intercept: \\n', model_linear.intercept_)\n",
        "print('coefficients: \\n', model_linear.coef_)\n",
        "\n",
        "import matplotlib.pyplot as plt\n",
        "plt.plot(x,y)"
      ],
      "execution_count": 0,
      "outputs": []
    },
    {
      "cell_type": "code",
      "metadata": {
        "id": "ucS0boXktykZ",
        "colab_type": "code",
        "colab": {}
      },
      "source": [
        "import pandas as pd\n",
        "import numpy as np\n",
        "\n",
        "data = {'x': [0,1,2,3,4,5,6,7,8,9,10], 'Y':[4,5,16,21,36,45,64,77,100,117,144]}\n",
        "\n",
        "data_frame = pd.DataFrame(data)\n",
        "\n",
        "data_frame\n",
        "\n",
        "from sklearn.linear_model import LinearRegression\n",
        "\n",
        "model_linear = LinearRegression()\n",
        "x = np.array(data_frame['x']).reshape(-1,1)\n",
        "y = data_frame['Y']\n",
        "\n",
        "model_linear.fit(x,y)\n",
        "\n",
        "print('Intercept: \\n', model_linear.intercept_)\n",
        "print('coefficients: \\n', model_linear.coef_)\n",
        "\n",
        "import matplotlib.pyplot as plt\n",
        "plt.plot(x,y)"
      ],
      "execution_count": 0,
      "outputs": []
    },
    {
      "cell_type": "code",
      "metadata": {
        "id": "tcgYzUOuX135",
        "colab_type": "code",
        "outputId": "6b097eb5-404d-45f8-9c90-5cc9e18b7f16",
        "colab": {
          "base_uri": "https://localhost:8080/",
          "height": 84
        }
      },
      "source": [
        "#CS483 Homework#1 Question 1\n",
        "\n",
        "import numpy as np\n",
        "\n",
        "#hypothesishypothesis function ---- h(theta)=theta1+theta2*x\n",
        "#loss function    ------ l=[h(x(i))-y(i)]^2\n",
        "#cost function    ------ J(theta) = [h(x(i))-y(i)]^2/(2*m)\n",
        "\n",
        "def training(tr_set):\n",
        "  (theta1,theta2,theta3)=(0,0,0)      # Initialize theta's value\n",
        "  alpha=0.01\t\t\t\t\t\t              # Set up learning rate\n",
        "  m=len(tr_set)\t\t\t\t\t\t            # Get number of samples in training set\n",
        "  iteration=36000  \n",
        "  while iteration > 0:\n",
        "    dtheta1=0\t\t\t\t\t\t\t# Initialize derivative value to big enough \n",
        "    dtheta2=0\n",
        "    dtheta3=0\n",
        "    for x in tr_set:\t\t\t# x[0]=x0; x[1]=x1; x[2]=x2; x[3]=y\n",
        "      dtheta1=dtheta1+((theta1*x[0]+theta2*x[1]+theta3*x[2])-x[3])*x[0]\n",
        "      dtheta2=dtheta2+((theta1*x[0]+theta2*x[1]+theta3*x[2])-x[3])*x[1]\n",
        "      dtheta3=dtheta3+((theta1*x[0]+theta2*x[1]+theta3*x[2])-x[3])*x[2]\n",
        "      \n",
        "    theta1=theta1-alpha*dtheta1/m\n",
        "    theta2=theta2-alpha*dtheta2/m\n",
        "    theta3=theta3-alpha*dtheta3/m\n",
        "\n",
        "    iteration-=1\n",
        "  \n",
        "  return (theta1, theta2, theta3)\n",
        "\n",
        "def pred(training_set,test_set):\n",
        "  (t1,t2,t3)=training(training_set)\n",
        "  #print(t1,t2,t3)\n",
        "  return t1*test_set[0]+t2*test_set[1]+t3*test_set[2]\n",
        "\n",
        "\n",
        "tr=[[1,-0.195652174,-0.433333333,-0.177897574],[1,-0.152173913,0.277777778,-0.121293801],[1,0.413043478,0.411111111,0.350404313],[1,-0.326086957,-0.122222222,0.04851752],[1,-0.065217391,-0.344444444,0.105121294],[1,0.152173913,0.033333333,0.067385445],[1,0.065217391,-0.188888889,-0.309973046],[1,0.543478261,0.411111111,0.690026954],[1,-0.065217391,0.411111111,0.180592992],[1,-0.456521739,-0.522222222,-0.215633423],[1,-0.065217391,-0.233333333,-0.15902965],[1,0.5,0.477777778,0.105121294],[1,-0.195652174,-0.077777778,-0.291105121],[1,-0.152173913,-0.1,-0.272237197]]\n",
        "tr=np.array(tr) # matrix format\n",
        "# tr[:,1]=(tr[:,1] - min(tr[:,1] )) / (max(tr[:,1])-min(tr[:,1]))  # normalization bwt 0~1\n",
        "# tr[:,2]=(tr[:,2] - min(tr[:,1] )) / (max(tr[:,2])-min(tr[:,2]))  # normalization bwt 0~1\n",
        "# print(tr)\n",
        "#for test_tr in tr:\n",
        "  #print(pred(tr,test_tr))\n",
        "\n",
        "test=[[1,0.02173913, 0.166666667],[1,0.630434783,0.055555556]]\n",
        "test=np.array(test)\n",
        "for pre in test:\n",
        "  print(\"After training: \",pred(tr,pre) ,\"\\npredict value: \", pred(tr,pre)*53 + 126.4285714) "
      ],
      "execution_count": 15,
      "outputs": [
        {
          "output_type": "stream",
          "text": [
            "After training:  0.04888880841630865 \n",
            "predict value:  129.01967824606436\n",
            "After training:  0.3081853516149899 \n",
            "predict value:  142.76239503559447\n"
          ],
          "name": "stdout"
        }
      ]
    },
    {
      "cell_type": "code",
      "metadata": {
        "id": "CbGRWbOtzZwd",
        "colab_type": "code",
        "colab": {
          "base_uri": "https://localhost:8080/",
          "height": 34
        },
        "outputId": "6cc1f4d6-537f-4663-8e50-462fc9670f3c"
      },
      "source": [
        "#import LinearRegrassion directely to verifiy the result above\n",
        "\n",
        "#Patients id\n",
        "id = [i for i in range(1,17)]\n",
        "id\n",
        "#Patients Age\n",
        "Age = [60, 61, 74, 57, 63, 68, 66, 77, 63, 54, 63, 76, 60, 61, 65, 79]\n",
        "len(Age)\n",
        "#Patients Weights\n",
        "Weights = [58, 90, 96, 72, 62, 79, 69, 96, 96, 54, 67, 99, 74, 73, 85, 80]\n",
        "len(Weights)\n",
        "#Systolic Blood Pressure\n",
        "SBP = [117, 120, 145, 129, 132, 130, 110, 163, 136, 115, 118, 132, 111, 112, 0, 0]\n",
        "len(SBP)\n",
        "#importing LinearRegression\n",
        "from sklearn.linear_model import LinearRegression\n",
        "#importing pandas module\n",
        "import pandas as pd\n",
        "\n",
        "data = {\"Age(Years)\":Age, \"Weight(Kg)\":Weights, \"SBP(mm Hg)\":SBP}\n",
        "#creating data frame\n",
        "data = pd.DataFrame(data = data)\n",
        "data\n",
        "\n",
        "#Taking x and y values\n",
        "x = data[[\"Age(Years)\", \"Weight(Kg)\"]]\n",
        "y = data[\"SBP(mm Hg)\"]\n",
        "\n",
        "#Taking train and test data\n",
        "x_train = x[:14]\n",
        "x_test = x[14:]\n",
        "\n",
        "y_train = y[:14]\n",
        "y_test = y[14:]\n",
        "\n",
        "#Applying LinearRegression\n",
        "model = LinearRegression()\n",
        "model.fit(x_train, y_train)\n",
        "\n",
        "#predicting remaining values\n",
        "pred = model.predict(x_test)\n",
        "\n",
        "#printing predicted values\n",
        "print(pred)"
      ],
      "execution_count": 16,
      "outputs": [
        {
          "output_type": "stream",
          "text": [
            "[129.01956696 142.76293569]\n"
          ],
          "name": "stdout"
        }
      ]
    },
    {
      "cell_type": "code",
      "metadata": {
        "id": "cgYVhG3jz0g1",
        "colab_type": "code",
        "colab": {}
      },
      "source": [
        ""
      ],
      "execution_count": 0,
      "outputs": []
    }
  ]
}