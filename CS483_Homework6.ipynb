{
  "nbformat": 4,
  "nbformat_minor": 0,
  "metadata": {
    "colab": {
      "name": "Untitled0.ipynb",
      "provenance": [],
      "collapsed_sections": [],
      "authorship_tag": "ABX9TyP6hwEAVnud41PQNOsChZQc",
      "include_colab_link": true
    },
    "kernelspec": {
      "name": "python3",
      "display_name": "Python 3"
    }
  },
  "cells": [
    {
      "cell_type": "markdown",
      "metadata": {
        "id": "view-in-github",
        "colab_type": "text"
      },
      "source": [
        "<a href=\"https://colab.research.google.com/github/Frankzhf0216/Build-up-linear-regression-hypothesis-regarding-two-features/blob/master/CS483_Homework6.ipynb\" target=\"_parent\"><img src=\"https://colab.research.google.com/assets/colab-badge.svg\" alt=\"Open In Colab\"/></a>"
      ]
    },
    {
      "cell_type": "markdown",
      "metadata": {
        "id": "GjTm4BskM-7p",
        "colab_type": "text"
      },
      "source": [
        "# CS483_HomeWork4_Q2\n"
      ]
    },
    {
      "cell_type": "code",
      "metadata": {
        "id": "a-c_xQF_NDGt",
        "colab_type": "code",
        "colab": {
          "base_uri": "https://localhost:8080/",
          "height": 188
        },
        "outputId": "63a04acf-bd9a-44bd-94ae-b6f4b9fe630a"
      },
      "source": [
        "!pip install hmmlearn"
      ],
      "execution_count": 1,
      "outputs": [
        {
          "output_type": "stream",
          "text": [
            "Collecting hmmlearn\n",
            "\u001b[?25l  Downloading https://files.pythonhosted.org/packages/ff/7b/33f629a443a0671161c019e55c3f1b511c7e9fdce5ab8c8c3c33470eb939/hmmlearn-0.2.3-cp36-cp36m-manylinux1_x86_64.whl (363kB)\n",
            "\r\u001b[K     |█                               | 10kB 17.8MB/s eta 0:00:01\r\u001b[K     |█▉                              | 20kB 1.6MB/s eta 0:00:01\r\u001b[K     |██▊                             | 30kB 1.9MB/s eta 0:00:01\r\u001b[K     |███▋                            | 40kB 2.2MB/s eta 0:00:01\r\u001b[K     |████▌                           | 51kB 2.0MB/s eta 0:00:01\r\u001b[K     |█████▍                          | 61kB 2.2MB/s eta 0:00:01\r\u001b[K     |██████▎                         | 71kB 2.5MB/s eta 0:00:01\r\u001b[K     |███████▏                        | 81kB 2.7MB/s eta 0:00:01\r\u001b[K     |████████                        | 92kB 2.8MB/s eta 0:00:01\r\u001b[K     |█████████                       | 102kB 2.7MB/s eta 0:00:01\r\u001b[K     |██████████                      | 112kB 2.7MB/s eta 0:00:01\r\u001b[K     |██████████▉                     | 122kB 2.7MB/s eta 0:00:01\r\u001b[K     |███████████▊                    | 133kB 2.7MB/s eta 0:00:01\r\u001b[K     |████████████▋                   | 143kB 2.7MB/s eta 0:00:01\r\u001b[K     |█████████████▌                  | 153kB 2.7MB/s eta 0:00:01\r\u001b[K     |██████████████▍                 | 163kB 2.7MB/s eta 0:00:01\r\u001b[K     |███████████████▎                | 174kB 2.7MB/s eta 0:00:01\r\u001b[K     |████████████████▏               | 184kB 2.7MB/s eta 0:00:01\r\u001b[K     |█████████████████               | 194kB 2.7MB/s eta 0:00:01\r\u001b[K     |██████████████████              | 204kB 2.7MB/s eta 0:00:01\r\u001b[K     |███████████████████             | 215kB 2.7MB/s eta 0:00:01\r\u001b[K     |███████████████████▉            | 225kB 2.7MB/s eta 0:00:01\r\u001b[K     |████████████████████▊           | 235kB 2.7MB/s eta 0:00:01\r\u001b[K     |█████████████████████▋          | 245kB 2.7MB/s eta 0:00:01\r\u001b[K     |██████████████████████▌         | 256kB 2.7MB/s eta 0:00:01\r\u001b[K     |███████████████████████▍        | 266kB 2.7MB/s eta 0:00:01\r\u001b[K     |████████████████████████▎       | 276kB 2.7MB/s eta 0:00:01\r\u001b[K     |█████████████████████████▏      | 286kB 2.7MB/s eta 0:00:01\r\u001b[K     |██████████████████████████      | 296kB 2.7MB/s eta 0:00:01\r\u001b[K     |███████████████████████████     | 307kB 2.7MB/s eta 0:00:01\r\u001b[K     |████████████████████████████    | 317kB 2.7MB/s eta 0:00:01\r\u001b[K     |████████████████████████████▉   | 327kB 2.7MB/s eta 0:00:01\r\u001b[K     |█████████████████████████████▊  | 337kB 2.7MB/s eta 0:00:01\r\u001b[K     |██████████████████████████████▋ | 348kB 2.7MB/s eta 0:00:01\r\u001b[K     |███████████████████████████████▌| 358kB 2.7MB/s eta 0:00:01\r\u001b[K     |████████████████████████████████| 368kB 2.7MB/s \n",
            "\u001b[?25hRequirement already satisfied: scipy>=0.15 in /usr/local/lib/python3.6/dist-packages (from hmmlearn) (1.4.1)\n",
            "Requirement already satisfied: numpy>=1.10 in /usr/local/lib/python3.6/dist-packages (from hmmlearn) (1.18.5)\n",
            "Requirement already satisfied: scikit-learn>=0.16 in /usr/local/lib/python3.6/dist-packages (from hmmlearn) (0.22.2.post1)\n",
            "Requirement already satisfied: joblib>=0.11 in /usr/local/lib/python3.6/dist-packages (from scikit-learn>=0.16->hmmlearn) (0.16.0)\n",
            "Installing collected packages: hmmlearn\n",
            "Successfully installed hmmlearn-0.2.3\n"
          ],
          "name": "stdout"
        }
      ]
    },
    {
      "cell_type": "code",
      "metadata": {
        "id": "kJrVyNHlEcJh",
        "colab_type": "code",
        "colab": {
          "base_uri": "https://localhost:8080/",
          "height": 50
        },
        "outputId": "2d307435-5377-461f-a69e-d1a3584c7d02"
      },
      "source": [
        "import numpy as np\n",
        "from hmmlearn import hmm\n",
        "\n",
        "states = [\"bottle 1\", \"bottle 2\", \"bottle 3\"]\n",
        "n_states = len(states)   # =3\n",
        "\n",
        "observations = [\"red\", \"yellow\", \"green\"]\n",
        "n_observations = len(observations)\n",
        "\n",
        "start_probability = np.array([0.4, 0.35, 0.25])\n",
        "\n",
        "transition_probability = np.array([\n",
        "  [0.3, 0.2, 0.5],\n",
        "  [0.1, 0.3, 0.6],\n",
        "  [0.7, 0.25, 0.05]\n",
        "])\n",
        "\n",
        "emission_probability = np.array([\n",
        "  [0.8, 0.1, 0.1],\n",
        "  [0.2, 0.4, 0.4],\n",
        "  [0.15, 0.25, 0.6]\n",
        "])\n",
        "\n",
        "model = hmm.MultinomialHMM(n_components=n_states) \n",
        "# MultinomialHMM: observation distribution in Multinomial\n",
        "model.startprob_=start_probability\n",
        "model.transmat_=transition_probability\n",
        "model.emissionprob_=emission_probability\n",
        "\n",
        "seen = np.array([[0,0,1,2,1]]).T        # 0: red;     1: yellow     2: green   => r r y g y\n",
        "logprob, box = model.decode(seen, algorithm=\"viterbi\")\n",
        "seen = [0,0,1,2,1]\n",
        "print(\"The candy picked:\", \", \".join(map(lambda x: observations[x], seen)))\n",
        "print(\"The bottle:\", \", \".join(map(lambda x: states[x], box)))"
      ],
      "execution_count": 19,
      "outputs": [
        {
          "output_type": "stream",
          "text": [
            "The candy picked: red, red, yellow, green, yellow\n",
            "The bottle: bottle 1, bottle 1, bottle 2, bottle 3, bottle 2\n"
          ],
          "name": "stdout"
        }
      ]
    },
    {
      "cell_type": "code",
      "metadata": {
        "id": "BBnIhlULjYjX",
        "colab_type": "code",
        "colab": {
          "base_uri": "https://localhost:8080/",
          "height": 50
        },
        "outputId": "6bb472b5-7cba-4684-cb4c-615c0a5e99f3"
      },
      "source": [
        "seen = np.array([[0,0,1,2,1]]).T \n",
        "box2 = model.predict(seen)      # same as \"viterbi\"\n",
        "seen = [0,0,1,2,1]\n",
        "print(\"The candy picked:\", \", \".join(map(lambda x: observations[x], seen)))\n",
        "print(\"The bottle:\", \", \".join(map(lambda x: states[x], box2)))"
      ],
      "execution_count": 20,
      "outputs": [
        {
          "output_type": "stream",
          "text": [
            "The candy picked: red, red, yellow, green, yellow\n",
            "The bottle: bottle 1, bottle 1, bottle 2, bottle 3, bottle 2\n"
          ],
          "name": "stdout"
        }
      ]
    },
    {
      "cell_type": "code",
      "metadata": {
        "id": "hR0ki6b5EeRx",
        "colab_type": "code",
        "colab": {
          "base_uri": "https://localhost:8080/",
          "height": 34
        },
        "outputId": "18e0af31-b94a-4be5-db6d-161d254ee863"
      },
      "source": [
        "seen = np.array([[0,0,1,2,1]]).T                  # P(rrygy) =?\n",
        "print(model.score(seen))\n",
        "# ln(P(red*red*yellow*green*yellow)) = -5.935089171594137   # P(rrygy) = exp(-5.935089171594137)"
      ],
      "execution_count": 21,
      "outputs": [
        {
          "output_type": "stream",
          "text": [
            "-5.935089171594137\n"
          ],
          "name": "stdout"
        }
      ]
    },
    {
      "cell_type": "code",
      "metadata": {
        "id": "_J2Y-dRPEf65",
        "colab_type": "code",
        "colab": {
          "base_uri": "https://localhost:8080/",
          "height": 370
        },
        "outputId": "8aef5c6b-909a-43a2-89f0-8ba70d569f06"
      },
      "source": [
        "import numpy as np\n",
        "from hmmlearn import hmm\n",
        "\n",
        "states = [\"box 1\", \"box 2\", \"box3\"]\n",
        "n_states = len(states)\n",
        "\n",
        "observations = [\"red\", \"yellow\", \"green\"]\n",
        "n_observations = len(observations)\n",
        "model2 = hmm.MultinomialHMM(n_components=n_states, n_iter=20, tol=0.01)\n",
        "X2 = np.array([[0,0,1,2,1],[0,1,1,2,0],[2,1,0,1,2]])\n",
        "model2.fit(X2)\n",
        "print(model2.startprob_)\n",
        "print(model2.transmat_)\n",
        "print(model2.emissionprob_)\n",
        "print(model2.score(X2))\n",
        "model2.fit(X2)\n",
        "print(model2.startprob_)\n",
        "print(model2.transmat_)\n",
        "print(model2.emissionprob_)\n",
        "print(model2.score(X2))\n",
        "model2.fit(X2)\n",
        "# print(model2.startprob_)\n",
        "# print(model2.transmat_)\n",
        "# print(model2.emissionprob_)\n",
        "# print(model2.score(X2))"
      ],
      "execution_count": 22,
      "outputs": [
        {
          "output_type": "stream",
          "text": [
            "[2.6045138e-38 5.4736090e-41 1.0000000e+00]\n",
            "[[1.66834580e-001 8.33165420e-001 2.84524544e-012]\n",
            " [8.32357991e-001 1.00274393e-117 1.67642009e-001]\n",
            " [3.53754328e-014 1.00000000e+000 8.03985302e-025]]\n",
            "[[6.62632712e-05 9.99933737e-01 7.39516769e-17]\n",
            " [4.28570020e-01 1.19871086e-38 5.71429980e-01]\n",
            " [9.96894536e-01 3.10546374e-03 5.25293494e-53]]\n",
            "-10.190441306174737\n",
            "[1.00000000e+00 3.39842387e-20 1.15965855e-25]\n",
            "[[7.69999404e-25 1.00000000e+00 2.87588454e-12]\n",
            " [1.56195816e-01 5.31800272e-49 8.43804184e-01]\n",
            " [3.43351384e-17 8.34275776e-01 1.65724224e-01]]\n",
            "[[9.99941163e-01 5.88372466e-05 1.81543842e-38]\n",
            " [4.28356613e-01 1.43638587e-15 5.71643387e-01]\n",
            " [1.08773314e-02 9.89122669e-01 1.70997162e-12]]\n",
            "-10.205406402542181\n"
          ],
          "name": "stdout"
        },
        {
          "output_type": "execute_result",
          "data": {
            "text/plain": [
              "MultinomialHMM(algorithm='viterbi', init_params='ste', n_components=3,\n",
              "               n_iter=20, params='ste',\n",
              "               random_state=RandomState(MT19937) at 0x7F6E4A4FF678,\n",
              "               startprob_prior=1.0, tol=0.01, transmat_prior=1.0,\n",
              "               verbose=False)"
            ]
          },
          "metadata": {
            "tags": []
          },
          "execution_count": 22
        }
      ]
    }
  ]
}