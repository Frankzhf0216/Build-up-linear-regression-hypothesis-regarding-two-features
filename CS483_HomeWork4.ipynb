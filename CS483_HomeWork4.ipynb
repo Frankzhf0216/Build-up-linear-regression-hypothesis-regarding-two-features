{
  "nbformat": 4,
  "nbformat_minor": 0,
  "metadata": {
    "colab": {
      "name": "Untitled0.ipynb",
      "provenance": [],
      "collapsed_sections": [
        "qacHIG4xxij7"
      ],
      "authorship_tag": "ABX9TyPQSAdTPwart2TkmaIlv55R",
      "include_colab_link": true
    },
    "kernelspec": {
      "name": "python3",
      "display_name": "Python 3"
    }
  },
  "cells": [
    {
      "cell_type": "markdown",
      "metadata": {
        "id": "view-in-github",
        "colab_type": "text"
      },
      "source": [
        "<a href=\"https://colab.research.google.com/github/Frankzhf0216/Build-up-linear-regression-hypothesis-regarding-two-features/blob/master/CS483_HomeWork4.ipynb\" target=\"_parent\"><img src=\"https://colab.research.google.com/assets/colab-badge.svg\" alt=\"Open In Colab\"/></a>"
      ]
    },
    {
      "cell_type": "markdown",
      "metadata": {
        "id": "qacHIG4xxij7",
        "colab_type": "text"
      },
      "source": [
        "# CS483_HomeWork4_Q1\n"
      ]
    },
    {
      "cell_type": "code",
      "metadata": {
        "id": "jIVIlbofxmDu",
        "colab_type": "code",
        "colab": {}
      },
      "source": [
        "import numpy as np\n",
        "import matplotlib.pyplot as plt\n",
        "import pandas as pd\n",
        "from google.colab import files\n",
        "uploaded = files.upload()\n",
        "import io\n",
        "from sklearn.model_selection import train_test_split\n",
        "from sklearn.preprocessing import StandardScaler\n",
        "from sklearn.neighbors import KNeighborsClassifier\n",
        "from sklearn.metrics import classification_report, confusion_matrix\n",
        "from sklearn.metrics import accuracy_score\n",
        "from sklearn import preprocessing\n",
        "from sklearn.tree import DecisionTreeClassifier \n",
        "from sklearn import metrics \n",
        "\n",
        "label = preprocessing.LabelEncoder()\n",
        "# Assign colum names to the dataset\n",
        "col_names = ['Age', 'Competition', 'Type', 'Profit']\n",
        "\n",
        "# Read dataset to pandas dataframe\n",
        "pima = pd.read_csv(io.BytesIO(uploaded['CS483_HW4_Q1.csv']))     # comma seperated values\n",
        "\n",
        "print(pima)\n",
        "\n",
        "label.fit(pima[\"Age\"])\n",
        "pima[\"Age\"] = label.transform(pima[\"Age\"])\n",
        "\n",
        "label.fit(pima[\"Competition\"])\n",
        "pima[\"Competition\"] = label.transform(pima[\"Competition\"])\n",
        "\n",
        "label.fit(pima[\"Type\"])\n",
        "pima[\"Type\"] = label.transform(pima[\"Type\"])\n",
        "\n",
        "print(pima)\n",
        "\n",
        "#split dataset in features and target variable\n",
        "feature_cols = ['Age', 'Competition', 'Type']\n",
        "X = pima[feature_cols]  # Features\n",
        "y = pima['Profit']          # Target variable\n",
        "\n",
        "# Create Decision Tree classifer object\n",
        "clf = DecisionTreeClassifier()\n",
        "\n",
        "# Train Decision Tree Classifer\n",
        "clf = clf.fit(X,y)\n",
        "\n",
        "#Predict the response for test dataset\n",
        "y_pred = clf.predict([[0, 0, 0]])\n",
        "print()\n",
        "print(y_pred[0])\n"
      ],
      "execution_count": null,
      "outputs": []
    },
    {
      "cell_type": "markdown",
      "metadata": {
        "id": "s0OZhK956CTr",
        "colab_type": "text"
      },
      "source": [
        "# CS483_HomeWork4_Q2\n"
      ]
    },
    {
      "cell_type": "code",
      "metadata": {
        "id": "a2M-dmgN6Fgj",
        "colab_type": "code",
        "colab": {}
      },
      "source": [
        "from sklearn.ensemble import RandomForestClassifier\n",
        "import pandas as pd\n",
        "import numpy as np\n",
        "from google.colab import files\n",
        "uploaded = files.upload()\n",
        "import io\n",
        "\n",
        "col_names = ['Red', 'Green', 'Blue', 'Size', 'Fruit']\n",
        "fruit = pd.read_csv(io.BytesIO(uploaded['CS483_HW4_Q2.csv']))\n",
        "print(fruit)\n",
        "\n",
        "np.random.seed(0)\n",
        "\n",
        "features = ['Red', 'Green', 'Blue', 'Size']\n",
        "y = fruit['Fruit']\n",
        "\n",
        "clf = RandomForestClassifier(n_jobs=2, random_state=0)\n",
        "# n_jobs: how many processors will be allowed to use\n",
        "# random_state:  random seed for bootstrapping\n",
        "\n",
        "# Training the classifier\n",
        "clf.fit(fruit[features], y)"
      ],
      "execution_count": null,
      "outputs": []
    }
  ]
}