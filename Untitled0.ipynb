{
  "nbformat": 4,
  "nbformat_minor": 0,
  "metadata": {
    "colab": {
      "name": "Untitled0.ipynb",
      "provenance": [],
      "collapsed_sections": [],
      "authorship_tag": "ABX9TyPwqvW6tKToukOQ/Z92MOJ2",
      "include_colab_link": true
    },
    "kernelspec": {
      "name": "python3",
      "display_name": "Python 3"
    }
  },
  "cells": [
    {
      "cell_type": "markdown",
      "metadata": {
        "id": "view-in-github",
        "colab_type": "text"
      },
      "source": [
        "<a href=\"https://colab.research.google.com/github/Frankzhf0216/Build-up-linear-regression-hypothesis-regarding-two-features/blob/master/Untitled0.ipynb\" target=\"_parent\"><img src=\"https://colab.research.google.com/assets/colab-badge.svg\" alt=\"Open In Colab\"/></a>"
      ]
    },
    {
      "cell_type": "markdown",
      "metadata": {
        "id": "W_w3c-Rp1JCC",
        "colab_type": "text"
      },
      "source": [
        "# CS483_HW#1_Q1\n"
      ]
    },
    {
      "cell_type": "code",
      "metadata": {
        "id": "slenEliT1YKM",
        "colab_type": "code",
        "outputId": "fd352ad1-ae62-4504-c934-680100f32952",
        "colab": {
          "base_uri": "https://localhost:8080/",
          "height": 84
        }
      },
      "source": [
        "import numpy as np\n",
        "\n",
        "#hypothesishypothesis function ---- h(theta)=theta1+theta2*x\n",
        "#loss function    ------ l=[h(x(i))-y(i)]^2\n",
        "#cost function    ------ J(theta) = [h(x(i))-y(i)]^2/(2*m)\n",
        "\n",
        "def training(tr_set):\n",
        "  (theta1,theta2,theta3)=(0,0,0)      # Initialize theta's value\n",
        "  alpha=0.01\t\t\t\t\t\t              # Set up learning rate\n",
        "  m=len(tr_set)\t\t\t\t\t\t            # Get number of samples in training set\n",
        "  iteration=36000  \n",
        "  while iteration > 0:\n",
        "    dtheta1=0\t\t\t\t\t\t\t# Initialize derivative value to big enough \n",
        "    dtheta2=0\n",
        "    dtheta3=0\n",
        "    for x in tr_set:\t\t\t# x[0]=x0; x[1]=x1; x[2]=x2; x[3]=y\n",
        "      dtheta1=dtheta1+((theta1*x[0]+theta2*x[1]+theta3*x[2])-x[3])*x[0]\n",
        "      dtheta2=dtheta2+((theta1*x[0]+theta2*x[1]+theta3*x[2])-x[3])*x[1]\n",
        "      dtheta3=dtheta3+((theta1*x[0]+theta2*x[1]+theta3*x[2])-x[3])*x[2]\n",
        "      \n",
        "    theta1=theta1-alpha*dtheta1/m\n",
        "    theta2=theta2-alpha*dtheta2/m\n",
        "    theta3=theta3-alpha*dtheta3/m\n",
        "\n",
        "    iteration-=1\n",
        "  \n",
        "  return (theta1, theta2, theta3)\n",
        "\n",
        "def pred(training_set,test_set):\n",
        "  (t1,t2,t3)=training(training_set)\n",
        "  #print(t1,t2,t3)\n",
        "  return t1*test_set[0]+t2*test_set[1]+t3*test_set[2]\n",
        "\n",
        "\n",
        "tr=[[1,-0.195652174,-0.433333333,-0.177897574],[1,-0.152173913,0.277777778,-0.121293801],[1,0.413043478,0.411111111,0.350404313],[1,-0.326086957,-0.122222222,0.04851752],[1,-0.065217391,-0.344444444,0.105121294],[1,0.152173913,0.033333333,0.067385445],[1,0.065217391,-0.188888889,-0.309973046],[1,0.543478261,0.411111111,0.690026954],[1,-0.065217391,0.411111111,0.180592992],[1,-0.456521739,-0.522222222,-0.215633423],[1,-0.065217391,-0.233333333,-0.15902965],[1,0.5,0.477777778,0.105121294],[1,-0.195652174,-0.077777778,-0.291105121],[1,-0.152173913,-0.1,-0.272237197]]\n",
        "tr=np.array(tr) # matrix format\n",
        "# tr[:,1]=(tr[:,1] - min(tr[:,1] )) / (max(tr[:,1])-min(tr[:,1]))  # normalization bwt 0~1\n",
        "# tr[:,2]=(tr[:,2] - min(tr[:,1] )) / (max(tr[:,2])-min(tr[:,2]))  # normalization bwt 0~1\n",
        "# print(tr)\n",
        "#for test_tr in tr:\n",
        "  #print(pred(tr,test_tr))\n",
        "\n",
        "test=[[1,0.02173913, 0.166666667],[1,0.630434783,0.055555556]]\n",
        "test=np.array(test)\n",
        "for pre in test:\n",
        "  print(\"After training: \",pred(tr,pre) ,\"\\npredict value: \", pred(tr,pre)*53 + 126.4285714)"
      ],
      "execution_count": 67,
      "outputs": [
        {
          "output_type": "stream",
          "text": [
            "After training:  0.04888880841630865 \n",
            "predict value:  129.01967824606436\n",
            "After training:  0.3081853516149899 \n",
            "predict value:  142.76239503559447\n"
          ],
          "name": "stdout"
        }
      ]
    },
    {
      "cell_type": "markdown",
      "metadata": {
        "id": "iY5O0N8l1pU4",
        "colab_type": "text"
      },
      "source": [
        "# CS483_HW#1_Q2"
      ]
    },
    {
      "cell_type": "code",
      "metadata": {
        "id": "1JeBUKOI4z1O",
        "colab_type": "code",
        "colab": {
          "base_uri": "https://localhost:8080/",
          "height": 265
        },
        "outputId": "cafb2633-1c09-42d3-a912-9da0150f373c"
      },
      "source": [
        "import numpy as np\n",
        "\n",
        "def training(tr_set):\n",
        "  (theta1,theta2)=(0,0)      # Initialize theta's value\n",
        "  alpha=0.01\t\t\t\t\t\t              # Set up learning rate\n",
        "  m=len(tr_set)\t\t\t\t\t\t            # Get number of samples in training set\n",
        "  iteration=36000  \n",
        "  while iteration > 0:\n",
        "    dtheta1=0\t\t\t\t\t\t\t# Initialize derivative value to big enough \n",
        "    dtheta2=0\n",
        "    for x in tr_set:\t\t\t# x[0]=x0; x[1]=x1; x[2]=y\n",
        "      dtheta1=dtheta1+((theta1*x[0]+theta2*x[1])-x[2])*x[0]\n",
        "      dtheta2=dtheta2+((theta1*x[0]+theta2*x[1])-x[2])*x[1]\n",
        "      \n",
        "    theta1=theta1-alpha*dtheta1/m\n",
        "    theta2=theta2-alpha*dtheta2/m\n",
        "\n",
        "    iteration-=1\n",
        "  \n",
        "  return (theta1, theta2)\n",
        "\n",
        "def pred(training_set,test_set):\n",
        "  (t1,t2)=training(training_set)\n",
        "  #print(t1, t2)\n",
        "  return t1*test_set[0]+t2*test_set[1]\n",
        "\n",
        "tr=[[1,-0.5,-0.37987013],[1,-0.4,-0.372727273],[1,-0.3,-0.294155844],[1,-0.2,-0.258441558],[1,-0.1,-0.151298701],[1,0,-0.087012987],[1,0.1,0.048701299],[1,0.2,0.141558442],[1,0.3,0.305844156],[1,0.4,0.427272727],[1,0.5,0.62012987]]\n",
        "tr=np.array(tr)\n",
        "for test_tr in tr:\n",
        " result=(pred(tr,test_tr)*140 + 57.18181818)\n",
        " #print(result)\n",
        "\n",
        "theta=training(tr)\n",
        "#print(theta[0],theta[1])\n",
        "\n",
        "row_x=[[0],[1],[2],[3],[4],[5],[6],[7],[8],[9],[10]]\n",
        "row_y=[[4],[5],[16],[21],[36],[45],[64],[77],[100],[117],[144]]\n",
        "\n",
        "\n",
        "#def function(x):\n",
        "  #return t1[0] + t2[0]*x\n",
        "\n",
        "#h=function(row_x)\n",
        "import matplotlib.pyplot as plt\n",
        "plt.scatter(row_x,row_y)\n",
        "plt.plot(row_x, row_y, color='red', linewidth=2)\n",
        "plt.show()\n",
        "\n"
      ],
      "execution_count": 66,
      "outputs": [
        {
          "output_type": "display_data",
          "data": {
            "image/png": "[encoded data removed]",
            "text/plain": [
              "<Figure size 432x288 with 1 Axes>"
            ]
          },
          "metadata": {
            "tags": [],
            "needs_background": "light"
          }
        }
      ]
    },
    {
      "cell_type": "markdown",
      "metadata": {
        "id": "TFvAcjsW12kK",
        "colab_type": "text"
      },
      "source": [
        "# CS483_HW#1_Q3"
      ]
    },
    {
      "cell_type": "code",
      "metadata": {
        "id": "Uw3gUe6f6ajP",
        "colab_type": "code",
        "outputId": "125acb86-3637-4d3e-c622-fc0f6db4e0bc",
        "colab": {
          "base_uri": "https://localhost:8080/",
          "height": 282
        }
      },
      "source": [
        "import numpy as np\n",
        "\n",
        "row_x=[[1],[3],[5],[7],[9],[11],[13],[15],[17],[19]]\n",
        "x=[[1, 1],[1, 3],[1, 5],[1, 7],[1, 9],[1, 11],[1, 13],[1, 15],[1, 17],[1, 19]]\n",
        "x=np.array(x)\n",
        "#print(x)\n",
        "X=x.transpose()   #x(T)\n",
        "#print(X)    \n",
        "a=X.dot(x)  #x(T)*x\n",
        "#print(a)\n",
        "inverse=np.linalg.inv(a)  #(x(T)*x)^(-1)\n",
        "#print(inverse)\n",
        "b=inverse.dot(X)       #(x(T)*x)^(-1)*x(T)\n",
        "#print(b)\n",
        "y=[[3],[3],[7],[7],[11],[11],[15],[15],[19],[19]]\n",
        "theta=b.dot(y)    #(x(T)x)^-1*x(T)*y\n",
        "print(theta[0], theta[1])\n",
        "\n",
        "def function(x):\n",
        "  return theta[0] + theta[1]*x\n",
        "\n",
        "h=function(row_x)\n",
        "import matplotlib.pyplot as plt\n",
        "plt.scatter(row_x,y)\n",
        "plt.plot(row_x, h, color='red', linewidth=2)\n",
        "plt.show()\n"
      ],
      "execution_count": 50,
      "outputs": [
        {
          "output_type": "stream",
          "text": [
            "[1.3030303] [0.96969697]\n"
          ],
          "name": "stdout"
        },
        {
          "output_type": "display_data",
          "data": {
            "image/png": "[encoded data removed]",
            "text/plain": [
              "<Figure size 432x288 with 1 Axes>"
            ]
          },
          "metadata": {
            "tags": [],
            "needs_background": "light"
          }
        }
      ]
    }
  ]
}