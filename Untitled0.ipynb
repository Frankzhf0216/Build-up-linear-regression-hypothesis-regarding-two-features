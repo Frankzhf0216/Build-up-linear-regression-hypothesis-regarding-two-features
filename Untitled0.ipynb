{
  "nbformat": 4,
  "nbformat_minor": 0,
  "metadata": {
    "colab": {
      "name": "Untitled0.ipynb",
      "provenance": [],
      "collapsed_sections": [
        "RbhimaVl8grG",
        "cE0OqfN7h4tC"
      ],
      "toc_visible": true,
      "authorship_tag": "ABX9TyNc3jY+XB420pPajyHc7nZV",
      "include_colab_link": true
    },
    "kernelspec": {
      "name": "python3",
      "display_name": "Python 3"
    }
  },
  "cells": [
    {
      "cell_type": "markdown",
      "metadata": {
        "id": "view-in-github",
        "colab_type": "text"
      },
      "source": [
        "<a href=\"https://colab.research.google.com/github/Frankzhf0216/Build-up-linear-regression-hypothesis-regarding-two-features/blob/master/Untitled0.ipynb\" target=\"_parent\"><img src=\"https://colab.research.google.com/assets/colab-badge.svg\" alt=\"Open In Colab\"/></a>"
      ]
    },
    {
      "cell_type": "markdown",
      "metadata": {
        "id": "qacHIG4xxij7",
        "colab_type": "text"
      },
      "source": [
        "# CS483_HomeWork4_Q1\n"
      ]
    },
    {
      "cell_type": "code",
      "metadata": {
        "id": "jIVIlbofxmDu",
        "colab_type": "code",
        "colab": {}
      },
      "source": [
        ""
      ],
      "execution_count": null,
      "outputs": []
    }
  ]
}